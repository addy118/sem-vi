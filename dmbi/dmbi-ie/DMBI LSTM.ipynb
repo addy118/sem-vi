{
 "cells": [
  {
   "cell_type": "code",
   "execution_count": 96,
   "id": "e1116329-51e3-410e-9fd6-590bde894dba",
   "metadata": {},
   "outputs": [],
   "source": [
    "import pandas as pd\n",
    "import numpy as np\n",
    "import tensorflow as tf\n",
    "from tensorflow.keras.preprocessing.text import Tokenizer\n",
    "from tensorflow.keras.preprocessing.sequence import pad_sequences\n",
    "from tensorflow.keras.models import Sequential\n",
    "from tensorflow.keras.layers import Embedding, LSTM, Bidirectional, Dense, Dropout, GlobalMaxPooling1D\n",
    "from tensorflow.keras.callbacks import EarlyStopping, ReduceLROnPlateau\n",
    "from sklearn.model_selection import train_test_split\n",
    "from sklearn.metrics import classification_report\n",
    "from imblearn.over_sampling import ADASYN"
   ]
  },
  {
   "cell_type": "code",
   "execution_count": 98,
   "id": "817e197d-cef8-4b7f-9d7d-1c84d45f996a",
   "metadata": {},
   "outputs": [],
   "source": [
    "df = pd.read_csv(\"amazon_alexa.tsv\", sep=\"\\t\")\n"
   ]
  },
  {
   "cell_type": "code",
   "execution_count": 100,
   "id": "5e24d3b6-eb16-4951-bd7a-bb607e7ce3c2",
   "metadata": {},
   "outputs": [
    {
     "name": "stdout",
     "output_type": "stream",
     "text": [
      "Class Distribution Before Balancing:\n",
      " feedback\n",
      "1    2893\n",
      "0     257\n",
      "Name: count, dtype: int64\n"
     ]
    }
   ],
   "source": [
    "print(\"Class Distribution Before Balancing:\\n\", df['feedback'].value_counts())"
   ]
  },
  {
   "cell_type": "code",
   "execution_count": 102,
   "id": "7fbac8be-32c1-44a2-ad7c-a4c725f997c3",
   "metadata": {},
   "outputs": [],
   "source": [
    "X = df['verified_reviews'].astype(str)  # Convert reviews to string\n",
    "y = df['feedback']"
   ]
  },
  {
   "cell_type": "code",
   "execution_count": 104,
   "id": "07859f12-647d-4f58-8003-a5d030b60dea",
   "metadata": {},
   "outputs": [],
   "source": [
    "tokenizer = Tokenizer(num_words=10000, oov_token=\"<OOV>\")  # Increased vocabulary size\n",
    "tokenizer.fit_on_texts(X)\n",
    "X_sequences = tokenizer.texts_to_sequences(X)"
   ]
  },
  {
   "cell_type": "code",
   "execution_count": 106,
   "id": "cdf5245e-bbce-4030-9f69-b653fd8e3590",
   "metadata": {},
   "outputs": [],
   "source": [
    "max_length = 120  # Increased input length\n",
    "X_padded = pad_sequences(X_sequences, maxlen=max_length, padding=\"post\", truncating=\"post\")\n"
   ]
  },
  {
   "cell_type": "code",
   "execution_count": 108,
   "id": "2f9e2147-bb0f-4d90-af34-8fd0acf85a91",
   "metadata": {},
   "outputs": [],
   "source": [
    "adasyn = ADASYN(sampling_strategy='auto', random_state=42, n_neighbors=5)\n",
    "X_resampled, y_resampled = adasyn.fit_resample(X_padded, y)\n"
   ]
  },
  {
   "cell_type": "code",
   "execution_count": 110,
   "id": "7dd13459-310a-4b9f-95d0-baa1df371408",
   "metadata": {},
   "outputs": [
    {
     "name": "stdout",
     "output_type": "stream",
     "text": [
      "Class Distribution After Balancing:\n",
      " feedback\n",
      "0    2916\n",
      "1    2893\n",
      "Name: count, dtype: int64\n"
     ]
    }
   ],
   "source": [
    "print(\"Class Distribution After Balancing:\\n\", pd.Series(y_resampled).value_counts())"
   ]
  },
  {
   "cell_type": "code",
   "execution_count": 112,
   "id": "a16db44b-f6aa-4f03-a441-2ae570e64d72",
   "metadata": {},
   "outputs": [],
   "source": [
    "X_train, X_test, y_train, y_test = train_test_split(X_resampled, y_resampled, test_size=0.2, random_state=42, stratify=y_resampled)"
   ]
  },
  {
   "cell_type": "code",
   "execution_count": 114,
   "id": "2d7b03c3-fb53-4e37-9aac-316f131ed889",
   "metadata": {},
   "outputs": [
    {
     "name": "stderr",
     "output_type": "stream",
     "text": [
      "C:\\Users\\2bhav\\anaconda3\\Lib\\site-packages\\keras\\src\\layers\\core\\embedding.py:90: UserWarning: Argument `input_length` is deprecated. Just remove it.\n",
      "  warnings.warn(\n"
     ]
    }
   ],
   "source": [
    "model = Sequential([\n",
    "    Embedding(input_dim=10000, output_dim=128, input_length=max_length),  # Increased embedding size\n",
    "    Bidirectional(LSTM(64, return_sequences=True)),  # Bidirectional LSTM for better feature extraction\n",
    "    GlobalMaxPooling1D(),  # Reduces overfitting by selecting the most relevant features\n",
    "    Dropout(0.5),\n",
    "    Dense(64, activation='relu'),\n",
    "    Dropout(0.5),\n",
    "    Dense(32, activation='relu'),\n",
    "    Dense(1, activation='sigmoid')\n",
    "])"
   ]
  },
  {
   "cell_type": "code",
   "execution_count": 116,
   "id": "afe06980-e314-44d2-9da5-a750a871a10a",
   "metadata": {},
   "outputs": [],
   "source": [
    "model.compile(loss=\"binary_crossentropy\", optimizer=\"adam\", metrics=[\"accuracy\"])"
   ]
  },
  {
   "cell_type": "code",
   "execution_count": 118,
   "id": "a6c70bc5-953f-4119-8321-98dab0793d15",
   "metadata": {},
   "outputs": [],
   "source": [
    "early_stopping = EarlyStopping(monitor='val_loss', patience=3, restore_best_weights=True)\n",
    "reduce_lr = ReduceLROnPlateau(monitor='val_loss', factor=0.2, patience=2, min_lr=0.0001)"
   ]
  },
  {
   "cell_type": "code",
   "execution_count": 120,
   "id": "308dea90-4c6e-4a8c-a3b9-467206e0d9ce",
   "metadata": {},
   "outputs": [
    {
     "name": "stdout",
     "output_type": "stream",
     "text": [
      "Epoch 1/10\n",
      "\u001b[1m146/146\u001b[0m \u001b[32m━━━━━━━━━━━━━━━━━━━━\u001b[0m\u001b[37m\u001b[0m \u001b[1m32s\u001b[0m 95ms/step - accuracy: 0.6146 - loss: 0.6287 - val_accuracy: 0.8064 - val_loss: 0.3960 - learning_rate: 0.0010\n",
      "Epoch 2/10\n",
      "\u001b[1m146/146\u001b[0m \u001b[32m━━━━━━━━━━━━━━━━━━━━\u001b[0m\u001b[37m\u001b[0m \u001b[1m16s\u001b[0m 111ms/step - accuracy: 0.8606 - loss: 0.3194 - val_accuracy: 0.8442 - val_loss: 0.3396 - learning_rate: 0.0010\n",
      "Epoch 3/10\n",
      "\u001b[1m146/146\u001b[0m \u001b[32m━━━━━━━━━━━━━━━━━━━━\u001b[0m\u001b[37m\u001b[0m \u001b[1m18s\u001b[0m 121ms/step - accuracy: 0.9096 - loss: 0.2290 - val_accuracy: 0.8451 - val_loss: 0.3758 - learning_rate: 0.0010\n",
      "Epoch 4/10\n",
      "\u001b[1m146/146\u001b[0m \u001b[32m━━━━━━━━━━━━━━━━━━━━\u001b[0m\u001b[37m\u001b[0m \u001b[1m20s\u001b[0m 137ms/step - accuracy: 0.9458 - loss: 0.1367 - val_accuracy: 0.8520 - val_loss: 0.4615 - learning_rate: 0.0010\n",
      "Epoch 5/10\n",
      "\u001b[1m146/146\u001b[0m \u001b[32m━━━━━━━━━━━━━━━━━━━━\u001b[0m\u001b[37m\u001b[0m \u001b[1m20s\u001b[0m 136ms/step - accuracy: 0.9645 - loss: 0.0915 - val_accuracy: 0.8563 - val_loss: 0.4892 - learning_rate: 2.0000e-04\n"
     ]
    }
   ],
   "source": [
    "history = model.fit(X_train, y_train, epochs=10, batch_size=32, validation_data=(X_test, y_test),\n",
    "                    callbacks=[early_stopping, reduce_lr])"
   ]
  },
  {
   "cell_type": "code",
   "execution_count": 122,
   "id": "24e999e0-db0c-42c8-a43a-3e501b44396e",
   "metadata": {},
   "outputs": [
    {
     "name": "stdout",
     "output_type": "stream",
     "text": [
      "\u001b[1m37/37\u001b[0m \u001b[32m━━━━━━━━━━━━━━━━━━━━\u001b[0m\u001b[37m\u001b[0m \u001b[1m1s\u001b[0m 30ms/step - accuracy: 0.8327 - loss: 0.3540\n",
      "\n",
      "Test Accuracy: 84.42%\n"
     ]
    }
   ],
   "source": [
    "test_loss, test_acc = model.evaluate(X_test, y_test)\n",
    "print(f\"\\nTest Accuracy: {test_acc * 100:.2f}%\")"
   ]
  },
  {
   "cell_type": "code",
   "execution_count": 124,
   "id": "e2dc526c-ba8a-4ff0-a41b-cfa8b39fc22c",
   "metadata": {},
   "outputs": [
    {
     "name": "stdout",
     "output_type": "stream",
     "text": [
      "\u001b[1m37/37\u001b[0m \u001b[32m━━━━━━━━━━━━━━━━━━━━\u001b[0m\u001b[37m\u001b[0m \u001b[1m2s\u001b[0m 40ms/step\n"
     ]
    }
   ],
   "source": [
    "y_pred = (model.predict(X_test) > 0.5).astype(\"int32\")"
   ]
  },
  {
   "cell_type": "code",
   "execution_count": 126,
   "id": "78c15fdf-643b-4119-a84c-a6d9c3e6fdb6",
   "metadata": {},
   "outputs": [
    {
     "name": "stdout",
     "output_type": "stream",
     "text": [
      "Classification Report:\n",
      "               precision    recall  f1-score   support\n",
      "\n",
      "           0       0.90      0.77      0.83       583\n",
      "           1       0.80      0.92      0.85       579\n",
      "\n",
      "    accuracy                           0.84      1162\n",
      "   macro avg       0.85      0.84      0.84      1162\n",
      "weighted avg       0.85      0.84      0.84      1162\n",
      "\n"
     ]
    }
   ],
   "source": [
    "print(\"Classification Report:\\n\", classification_report(y_test, y_pred))"
   ]
  },
  {
   "cell_type": "code",
   "execution_count": 130,
   "id": "899a276b-1a93-4d1e-be14-65233735e21a",
   "metadata": {},
   "outputs": [],
   "source": [
    "def predict_sentiment(review, model, tokenizer, max_length=120):\n",
    "    # Convert review to lowercase (optional)\n",
    "    review = review.lower()\n",
    "    \n",
    "    # Tokenize and convert text to sequence\n",
    "    sequence = tokenizer.texts_to_sequences([review])\n",
    "    \n",
    "    # Pad sequence to match model input size\n",
    "    padded_sequence = pad_sequences(sequence, maxlen=max_length, padding=\"post\", truncating=\"post\")\n",
    "    \n",
    "    # Get prediction\n",
    "    prediction = model.predict(padded_sequence)[0][0]\n",
    "    \n",
    "    # Interpret result\n",
    "    sentiment = \"Positive\" if prediction > 0.5 else \"Negative\"\n",
    "    confidence = prediction if prediction > 0.5 else 1 - prediction\n",
    "    \n",
    "    print(f\"Review: {review}\")\n",
    "    print(f\"Predicted Sentiment: {sentiment} (Confidence: {confidence:.2f})\")\n",
    "    return sentiment"
   ]
  },
  {
   "cell_type": "code",
   "execution_count": 132,
   "id": "80845de3-7cd7-4d05-b484-606ec2e715d8",
   "metadata": {},
   "outputs": [
    {
     "name": "stdout",
     "output_type": "stream",
     "text": [
      "\u001b[1m1/1\u001b[0m \u001b[32m━━━━━━━━━━━━━━━━━━━━\u001b[0m\u001b[37m\u001b[0m \u001b[1m1s\u001b[0m 671ms/step\n",
      "Review: this product is absolutely fantastic! i love it.\n",
      "Predicted Sentiment: Positive (Confidence: 0.96)\n"
     ]
    },
    {
     "data": {
      "text/plain": [
       "'Positive'"
      ]
     },
     "execution_count": 132,
     "metadata": {},
     "output_type": "execute_result"
    }
   ],
   "source": [
    "predict_sentiment(\"This product is absolutely fantastic! I love it.\", model, tokenizer)\n"
   ]
  },
  {
   "cell_type": "code",
   "execution_count": 134,
   "id": "6b8eafb0-a86c-4d9f-a291-44472bd1b7cc",
   "metadata": {},
   "outputs": [
    {
     "name": "stdout",
     "output_type": "stream",
     "text": [
      "\u001b[1m1/1\u001b[0m \u001b[32m━━━━━━━━━━━━━━━━━━━━\u001b[0m\u001b[37m\u001b[0m \u001b[1m0s\u001b[0m 106ms/step\n",
      "Review: terrible product. doesn't work at all.\n",
      "Predicted Sentiment: Negative (Confidence: 0.96)\n"
     ]
    },
    {
     "data": {
      "text/plain": [
       "'Negative'"
      ]
     },
     "execution_count": 134,
     "metadata": {},
     "output_type": "execute_result"
    }
   ],
   "source": [
    "predict_sentiment(\"Terrible product. Doesn't work at all.\", model, tokenizer)\n"
   ]
  },
  {
   "cell_type": "code",
   "execution_count": 136,
   "id": "92c663ab-d11f-4798-8547-c5dea115032e",
   "metadata": {},
   "outputs": [
    {
     "name": "stdout",
     "output_type": "stream",
     "text": [
      "\u001b[1m1/1\u001b[0m \u001b[32m━━━━━━━━━━━━━━━━━━━━\u001b[0m\u001b[37m\u001b[0m \u001b[1m0s\u001b[0m 116ms/step\n",
      "Review: absolutely love this! the quality is amazing.\n",
      "Predicted Sentiment: Positive (Confidence: 0.96)\n"
     ]
    },
    {
     "data": {
      "text/plain": [
       "'Positive'"
      ]
     },
     "execution_count": 136,
     "metadata": {},
     "output_type": "execute_result"
    }
   ],
   "source": [
    "predict_sentiment(\"Absolutely love this! The quality is amazing.\", model, tokenizer)\n"
   ]
  },
  {
   "cell_type": "code",
   "execution_count": 138,
   "id": "b1a3ea96-770e-408c-9b80-d5360c5ad83b",
   "metadata": {},
   "outputs": [
    {
     "name": "stdout",
     "output_type": "stream",
     "text": [
      "\u001b[1m1/1\u001b[0m \u001b[32m━━━━━━━━━━━━━━━━━━━━\u001b[0m\u001b[37m\u001b[0m \u001b[1m0s\u001b[0m 90ms/step\n",
      "Review: doesn't work as expected. waste of money.\n",
      "Predicted Sentiment: Negative (Confidence: 0.75)\n"
     ]
    },
    {
     "data": {
      "text/plain": [
       "'Negative'"
      ]
     },
     "execution_count": 138,
     "metadata": {},
     "output_type": "execute_result"
    }
   ],
   "source": [
    "predict_sentiment(\"Doesn't work as expected. Waste of money.\", model, tokenizer)\n"
   ]
  },
  {
   "cell_type": "code",
   "execution_count": null,
   "id": "33cfa7c2-58ea-4e12-8c92-89127fe5f4a2",
   "metadata": {},
   "outputs": [],
   "source": []
  }
 ],
 "metadata": {
  "kernelspec": {
   "display_name": "Python 3 (ipykernel)",
   "language": "python",
   "name": "python3"
  },
  "language_info": {
   "codemirror_mode": {
    "name": "ipython",
    "version": 3
   },
   "file_extension": ".py",
   "mimetype": "text/x-python",
   "name": "python",
   "nbconvert_exporter": "python",
   "pygments_lexer": "ipython3",
   "version": "3.12.4"
  }
 },
 "nbformat": 4,
 "nbformat_minor": 5
}
